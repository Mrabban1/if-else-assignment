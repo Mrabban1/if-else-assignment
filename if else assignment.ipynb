{
 "cells": [
  {
   "cell_type": "markdown",
   "id": "e694b46d-ba08-4c49-95c2-dc393cf45dd5",
   "metadata": {},
   "source": [
    "Q1. Write a program to calculate the electricity bill\n",
    "using only if statement? (accept number of unit from user)\n",
    "according to the following criteria:\n",
    "\n",
    "Unit Price\n",
    "First 100 units no charge\n",
    "Next 100 units Rs 5 per unit\n",
    "After 200 units Rs 10 per unit\n",
    "(For example, if input unit is 350 than total bill amount is Rs2000). Lets explain...\n",
    "For first 100 no charges\n",
    "Now you have 250 unit remaining\n",
    "100-200 you need to pay – 100*5 = 500\n",
    "Now 200-100 you need to pay 150*10 = 1500\n",
    "Total = 500+1500 = 2000"
   ]
  },
  {
   "cell_type": "code",
   "execution_count": 4,
   "id": "1288d69b-2eab-462d-a5d9-73f398f0b2ac",
   "metadata": {},
   "outputs": [
    {
     "name": "stdin",
     "output_type": "stream",
     "text": [
      "enter the number of units consumed:  350\n"
     ]
    },
    {
     "name": "stdout",
     "output_type": "stream",
     "text": [
      "total billed amount: 2000\n"
     ]
    }
   ],
   "source": [
    "units = int(input(\"enter the number of units consumed: \"))\n",
    "\n",
    "billed_amount = 0\n",
    "if units <= 100: \n",
    "    billed_amount = 0\n",
    "elif units <= 200: \n",
    "    billed_amount = (units-100) * 5\n",
    "else: \n",
    "    billed_amount = (100*5) + (units-200) * 10\n",
    "\n",
    "print(f\"total billed amount: {billed_amount}\")"
   ]
  },
  {
   "cell_type": "markdown",
   "id": "cd3ebb31-dbbf-4c52-a0e8-2406e75df02f",
   "metadata": {},
   "source": [
    "Q2. Write a program to accept percentage from the user and display\n",
    "the grade according to the following criteria:\n",
    "\n",
    "Marks Grade\n",
    "> 90 A\n",
    "> 80 and <= 90 B\n",
    ">= 60 and <= 80 C\n",
    "below 60 D"
   ]
  },
  {
   "cell_type": "code",
   "execution_count": 39,
   "id": "7a0c69c6-9cf4-4159-abc9-d70fb9018d3c",
   "metadata": {},
   "outputs": [
    {
     "name": "stdin",
     "output_type": "stream",
     "text": [
      "enter your percentage:  85\n"
     ]
    },
    {
     "name": "stdout",
     "output_type": "stream",
     "text": [
      "your grade is : B\n"
     ]
    }
   ],
   "source": [
    "percentage = float(input(\"enter your percentage: \"))\n",
    "\n",
    "if percentage > 90:\n",
    "    garde = \"A\"\n",
    "elif percentage > 80 and percentage <= 90:\n",
    "    grade = \"B\"\n",
    "elif percentage >=60 and percentage <= 80: \n",
    "    garde = \"C\"\n",
    "else: \n",
    "    grade = \"D\"\n",
    "print(f\"your grade is : {grade}\")"
   ]
  },
  {
   "cell_type": "markdown",
   "id": "2b37c91a-37b7-4d49-b4a5-5a7ccfa1292c",
   "metadata": {},
   "source": [
    "Q3. Accept the age of 4 people and display the youngest one?"
   ]
  },
  {
   "cell_type": "code",
   "execution_count": 46,
   "id": "bec461d7-9138-4bc1-baa6-344b7314de7f",
   "metadata": {},
   "outputs": [
    {
     "name": "stdin",
     "output_type": "stream",
     "text": [
      "enter the age of person 1:  45\n",
      "enter the age of person 2:  63\n",
      "enter the age of person 3:  78\n",
      "enter the age of person 4:  30\n"
     ]
    },
    {
     "name": "stdout",
     "output_type": "stream",
     "text": [
      "youngest age is: 30\n"
     ]
    }
   ],
   "source": [
    "age1 = int(input(\"enter the age of person 1: \"))\n",
    "age2 = int(input(\"enter the age of person 2: \"))\n",
    "age3 = int(input(\"enter the age of person 3: \"))\n",
    "age4 = int(input(\"enter the age of person 4: \"))\n",
    "\n",
    "youngest = age1\n",
    "\n",
    "if age2< youngest: \n",
    "    youngest = age2\n",
    "if age3<youngest:\n",
    "    youngest = age3\n",
    "\n",
    "if age4<youngest:\n",
    "    youngest = age4\n",
    "\n",
    "print(f\"youngest age is: {youngest}\")\n",
    "\n",
    "    "
   ]
  },
  {
   "cell_type": "markdown",
   "id": "f58a62f3-db35-42f6-92da-9601f0637390",
   "metadata": {},
   "source": [
    "Q4. A company decided to give bonus to employee\n",
    "according to following criteria:\n",
    "\n",
    "Time period of Service Bonus\n",
    "\n",
    "More than 10 years 10%\n",
    ">=6 and <=10 8%\r\n",
    "\r\n",
    "Less than 6 years 5%\r\n",
    "\r\n",
    "Ask user for their salary and years of service and print the\r\n",
    "net bonus am\n",
    "ount?s 10%"
   ]
  },
  {
   "cell_type": "code",
   "execution_count": 59,
   "id": "bce3f7ec-7e99-4f7d-b8d0-5a2f13504761",
   "metadata": {},
   "outputs": [
    {
     "name": "stdin",
     "output_type": "stream",
     "text": [
      "enter your salary:  50000\n",
      "enter your year of service:  5\n"
     ]
    },
    {
     "name": "stdout",
     "output_type": "stream",
     "text": [
      "your net bonus_amount: 2500.0\n"
     ]
    }
   ],
   "source": [
    "salary = float(input(\"enter your salary: \"))\n",
    "year_of_service = int(input(\"enter your year of service: \"))\n",
    "\n",
    "if year_of_service > 10:\n",
    "    bonus_percentage = 10\n",
    "\n",
    "elif 6<= year_of_service <= 10: \n",
    "    bonus_percentage = 8\n",
    "\n",
    "else:\n",
    "    bonus_percentage = 5\n",
    "\n",
    "bonus_amount = (bonus_percentage/100) * salary\n",
    "\n",
    "print(f\"your net bonus_amount: {bonus_amount}\")\n",
    "    "
   ]
  },
  {
   "cell_type": "markdown",
   "id": "ff8f9873-f46e-4588-ae6a-a65975877559",
   "metadata": {},
   "source": [
    "Q5. Accept three numbers from the user and\n",
    "display the second largest number?"
   ]
  },
  {
   "cell_type": "code",
   "execution_count": 72,
   "id": "38db29a1-ec25-460f-8311-9e962ff530fc",
   "metadata": {},
   "outputs": [
    {
     "name": "stdin",
     "output_type": "stream",
     "text": [
      "enter first number:  50\n",
      "enter second number:  60\n",
      "enter third number:  70\n"
     ]
    },
    {
     "name": "stdout",
     "output_type": "stream",
     "text": [
      "the second largest number is 60\n"
     ]
    }
   ],
   "source": [
    "num1 = int(input(\"enter first number: \"))\n",
    "num2 = int(input(\"enter second number: \"))\n",
    "num3 = int(input(\"enter third number: \"))\n",
    "\n",
    "if num1>num2 and num1>num3:\n",
    "    if num2>num3:\n",
    "        print(\"the second largest number is\", num2)\n",
    "    else:\n",
    "        print(\"the second largest number is\", num3)\n",
    "elif num2>num1 and num2>num3:\n",
    "    if num1>num3:\n",
    "        print(\"the second largest number is\", num1)\n",
    "    else:\n",
    "        print(\"the second largest number is\", num3)\n",
    "else:\n",
    "    if num1 > num2:\n",
    "        print(\"the second largest number is\", num1)\n",
    "    else:\n",
    "        print(\"the second largest number is\", num2)\n"
   ]
  },
  {
   "cell_type": "markdown",
   "id": "da331921-a12c-4dc9-be87-1600eb1eb1d3",
   "metadata": {},
   "source": [
    "Q6. Accept the marked price from the user and calculate\n",
    "the Net amount as (Marked Price – Discount) to pay\n",
    "according to following criteria:\n",
    "\n",
    "Marked Price Discount\n",
    ">10000 20%\n",
    ">7000 and <=10000 15%\n",
    "<=7000 10%"
   ]
  },
  {
   "cell_type": "code",
   "execution_count": 83,
   "id": "e38015f5-eb4b-4531-8f93-a8a7aa7080ac",
   "metadata": {},
   "outputs": [
    {
     "name": "stdin",
     "output_type": "stream",
     "text": [
      "enter the marked prise:  500000\n"
     ]
    },
    {
     "name": "stdout",
     "output_type": "stream",
     "text": [
      "the net amount is : 400000.0\n"
     ]
    }
   ],
   "source": [
    "marked_prise = float(input(\"enter the marked prise: \"))\n",
    "\n",
    "if marked_prise > 10000:\n",
    "    discount_percentage = 20\n",
    "elif 7000 < marked_prise <= 10000:\n",
    "    discount_percentage = 15\n",
    "else:\n",
    "    discount_percentage = 10\n",
    "\n",
    "discount_amount = (discount_percentage / 100) * marked_prise\n",
    "\n",
    "net_amount = marked_prise - discount_amount\n",
    "\n",
    "print(f\"the net amount is : {net_amount}\")\n",
    "\n"
   ]
  },
  {
   "cell_type": "markdown",
   "id": "ad024d1f-6483-406e-b54f-f2eb0c340d8c",
   "metadata": {},
   "source": [
    "Q7. Accept the marks of English, Math and Science,\n",
    "Social Studies Subject and display the stream allotted\n",
    "according to following:\n",
    "\n",
    "All Subjects more than 80 marks — Science Stream\n",
    "\n",
    "English >80 and Math, Science above 50 — Commerce Stream\n",
    "\n",
    "English > 80 and social studies > 80 — Humanities"
   ]
  },
  {
   "cell_type": "code",
   "execution_count": 98,
   "id": "6ce52d9b-a391-4574-9d6d-89fae6ec818c",
   "metadata": {},
   "outputs": [
    {
     "name": "stdin",
     "output_type": "stream",
     "text": [
      "enter the marks of english:  85\n",
      "enter the marks of math:  56\n",
      "enter the marks of science:  95\n",
      "enter the marks of social studies:  86\n"
     ]
    },
    {
     "name": "stdout",
     "output_type": "stream",
     "text": [
      "the allocated stream is: commerce stream\n"
     ]
    }
   ],
   "source": [
    "english_marks = float(input(\"enter the marks of english: \"))\n",
    "math_marks = float(input(\"enter the marks of math: \")) \n",
    "science_marks = float(input(\"enter the marks of science: \"))\n",
    "social_studies_marks = float(input(\"enter the marks of social studies: \"))\n",
    "\n",
    "if english_marks > 80 and math_marks > 80 and science_marks > 80 and social_studies_marks > 80: \n",
    "    stream = \"science stream\"\n",
    "elif english_marks > 80 and math_marks > 50 and science_marks > 50:\n",
    "    stream = \"commerce stream\"\n",
    "elif english_marks > 80 and social_studies_marks > 80: \n",
    "    stream = \"humanities stream\"\n",
    "else:\n",
    "    stream =\" no specific stream allocat\"\n",
    "\n",
    "print(f\"the allocated stream is: {stream}\")"
   ]
  },
  {
   "cell_type": "markdown",
   "id": "35d80d8e-bd3f-41d1-84e6-57667f567e9f",
   "metadata": {},
   "source": [
    "Q8. Write a program to display \"Hello\" if a number entered\n",
    "by user is a multiple of five, otherwise print \"Bye\"?"
   ]
  },
  {
   "cell_type": "code",
   "execution_count": 107,
   "id": "67fe7c10-4470-4447-a36e-73efd0af91a8",
   "metadata": {},
   "outputs": [
    {
     "name": "stdin",
     "output_type": "stream",
     "text": [
      "enter the number:  45\n"
     ]
    },
    {
     "name": "stdout",
     "output_type": "stream",
     "text": [
      "hello\n"
     ]
    }
   ],
   "source": [
    "number = int(input(\"enter the number: \"))\n",
    "\n",
    "if number % 5 ==0:\n",
    "    print(\"hello\")\n",
    "else:\n",
    "    print(\"bye\")"
   ]
  },
  {
   "cell_type": "markdown",
   "id": "1b7a28bb-6c91-47a1-91e9-1449185e74c9",
   "metadata": {},
   "source": [
    "Q9. Write a program to check whether the last digit of a number\n",
    "(entered by user) is divisible by 3 or not?"
   ]
  },
  {
   "cell_type": "code",
   "execution_count": 114,
   "id": "b37159c0-2c7a-4eac-b105-cca7943d9c76",
   "metadata": {},
   "outputs": [
    {
     "name": "stdin",
     "output_type": "stream",
     "text": [
      "enter the number:  7458\n"
     ]
    },
    {
     "name": "stdout",
     "output_type": "stream",
     "text": [
      "the last digit 8 is not divisible by 3\n"
     ]
    }
   ],
   "source": [
    "number = int(input(\"enter the number: \"))\n",
    "\n",
    "last_digit = abs(number) % 10\n",
    "\n",
    "if last_digit % 3 == 0:\n",
    "    print(f\"the last digit {last_digit} is divisible by 3\")\n",
    "else:\n",
    "    print(f\"the last digit {last_digit} is not divisible by 3\")"
   ]
  },
  {
   "cell_type": "markdown",
   "id": "a4d36763-ce3d-468b-9dfe-17a3f5ccb275",
   "metadata": {},
   "source": [
    "Q10. Write a program to check whether a number entered\n",
    "is three-digit number or not?"
   ]
  },
  {
   "cell_type": "code",
   "execution_count": 119,
   "id": "87c62ca8-cc0b-43b1-a572-cb838df8f7c5",
   "metadata": {},
   "outputs": [
    {
     "name": "stdin",
     "output_type": "stream",
     "text": [
      "enter the number:  789\n"
     ]
    },
    {
     "name": "stdout",
     "output_type": "stream",
     "text": [
      "the number is three digit\n"
     ]
    }
   ],
   "source": [
    "number = int(input(\"enter the number: \"))\n",
    "\n",
    "if 100 <= abs(number) <= 999:\n",
    "    print(\"the number is three digit\")\n",
    "else:\n",
    "    print(\"the number is not three digit\")"
   ]
  },
  {
   "cell_type": "code",
   "execution_count": null,
   "id": "46a6760f-4101-4615-85c8-a3e23ad38b20",
   "metadata": {},
   "outputs": [],
   "source": []
  }
 ],
 "metadata": {
  "kernelspec": {
   "display_name": "Python 3 (ipykernel)",
   "language": "python",
   "name": "python3"
  },
  "language_info": {
   "codemirror_mode": {
    "name": "ipython",
    "version": 3
   },
   "file_extension": ".py",
   "mimetype": "text/x-python",
   "name": "python",
   "nbconvert_exporter": "python",
   "pygments_lexer": "ipython3",
   "version": "3.12.4"
  }
 },
 "nbformat": 4,
 "nbformat_minor": 5
}
